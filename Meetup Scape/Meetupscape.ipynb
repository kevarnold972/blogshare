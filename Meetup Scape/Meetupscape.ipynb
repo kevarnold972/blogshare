{
 "cells": [
  {
   "cell_type": "code",
   "execution_count": 19,
   "metadata": {},
   "outputs": [],
   "source": [
    "import time\n",
    "import requests\n",
    "from bs4 import BeautifulSoup\n",
    "import pandas as pd\n",
    "import concurrent.futures"
   ]
  },
  {
   "cell_type": "code",
   "execution_count": 2,
   "metadata": {},
   "outputs": [],
   "source": [
    "# open meetup site with BeautifulSoup and handle errors\n",
    "def open_site(url):\n",
    "    try:\n",
    "        page = requests.get(url)\n",
    "        soup = BeautifulSoup(page.content, 'html.parser')\n",
    "        return soup\n",
    "    except:\n",
    "        return None"
   ]
  },
  {
   "cell_type": "code",
   "execution_count": 22,
   "metadata": {},
   "outputs": [],
   "source": [
    "# response = requests.get('https://www.meetup.com/dfw-power-bi-user-group/events/')\n",
    "# response._content\n",
    "mysoup = open_site('https://www.meetup.com/dfw-power-bi-user-group/events/')"
   ]
  },
  {
   "cell_type": "code",
   "execution_count": 34,
   "metadata": {},
   "outputs": [
    {
     "name": "stdout",
     "output_type": "stream",
     "text": [
      "Thu, Sep 14, 2023, 5:00 PM UTC\n",
      "Lunch Box Series: Open Chat / Q&A\n",
      "https://www.meetup.com/dfw-power-bi-user-group/events/295441513/\n",
      "Thu, Sep 21, 2023, 5:00 PM UTC\n",
      "Lunch Box Series: Open Chat / Q&A\n",
      "https://www.meetup.com/dfw-power-bi-user-group/events/295441518/\n",
      "Thu, Sep 28, 2023, 5:00 PM UTC\n",
      "Lunch Box Series: Open Chat / Q&A\n",
      "https://www.meetup.com/dfw-power-bi-user-group/events/295441521/\n"
     ]
    }
   ],
   "source": [
    "# get the ul tag with the event details\n",
    "\n",
    "\n",
    "myul = mysoup.find('ul', class_='flex flex-col space-y-5 w-full px-4 md:px-0')\n",
    "\n",
    "Events = myul.find_all('li', recursive=False)\n",
    "\n",
    "for event in Events:\n",
    "    EventTime = event.find('time').text\n",
    "    EventName = event.find('span', class_=\"ds-font-title-3 break-words leading-7 block utils_cardTitle__lbnC_\").text\n",
    "    EventLink = event.find('a', class_=\"hover:no-underline outline-offset-8 flex flex-col justify-between h-full space-y-5\").get('href')\n",
    "    print(EventTime)\n",
    "    print(EventName)\n",
    "    print(EventLink)"
   ]
  }
 ],
 "metadata": {
  "kernelspec": {
   "display_name": "Python 3",
   "language": "python",
   "name": "python3"
  },
  "language_info": {
   "codemirror_mode": {
    "name": "ipython",
    "version": 3
   },
   "file_extension": ".py",
   "mimetype": "text/x-python",
   "name": "python",
   "nbconvert_exporter": "python",
   "pygments_lexer": "ipython3",
   "version": "3.11.5"
  },
  "orig_nbformat": 4
 },
 "nbformat": 4,
 "nbformat_minor": 2
}
